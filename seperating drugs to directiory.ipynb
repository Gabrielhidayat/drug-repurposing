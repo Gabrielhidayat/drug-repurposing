{
 "cells": [
  {
   "cell_type": "code",
   "execution_count": 1,
   "id": "5aa01b62",
   "metadata": {},
   "outputs": [],
   "source": [
    "import os\n",
    "import shutil\n",
    "import pandas as pd\n",
    "import natsort\n"
   ]
  },
  {
   "cell_type": "code",
   "execution_count": 43,
   "id": "3c870de7",
   "metadata": {},
   "outputs": [],
   "source": [
    "data = pd.read_csv('/data/data breast cancer/breast_cancer.csv')\n"
   ]
  },
  {
   "cell_type": "code",
   "execution_count": 44,
   "id": "9dd9b889",
   "metadata": {},
   "outputs": [],
   "source": [
    "path_file = '/seperate_drugs/'"
   ]
  },
  {
   "cell_type": "code",
   "execution_count": 45,
   "id": "fce4a31d",
   "metadata": {},
   "outputs": [],
   "source": [
    "file = natsort.natsorted(os.listdir(path_file))"
   ]
  },
  {
   "cell_type": "code",
   "execution_count": 46,
   "id": "6cf6cb77",
   "metadata": {},
   "outputs": [],
   "source": [
    "path_protein = '/dir_protein/'"
   ]
  },
  {
   "cell_type": "code",
   "execution_count": 47,
   "id": "a6163424",
   "metadata": {},
   "outputs": [],
   "source": [
    "protein = natsort.natsorted(os.listdir(path_protein))"
   ]
  },
  {
   "cell_type": "code",
   "execution_count": 29,
   "id": "5e780a7a",
   "metadata": {},
   "outputs": [],
   "source": [
    "df = pd.DataFrame(data['cid'].sort_values())"
   ]
  },
  {
   "cell_type": "code",
   "execution_count": 31,
   "id": "8ecbfd9d",
   "metadata": {},
   "outputs": [],
   "source": [
    "df = df.reset_index(drop = True)"
   ]
  },
  {
   "cell_type": "code",
   "execution_count": 53,
   "id": "931c1033",
   "metadata": {},
   "outputs": [
    {
     "data": {
      "text/plain": [
       "2187"
      ]
     },
     "execution_count": 53,
     "metadata": {},
     "output_type": "execute_result"
    }
   ],
   "source": [
    "df['cid'][0]"
   ]
  },
  {
   "cell_type": "code",
   "execution_count": 40,
   "id": "bc507b4c",
   "metadata": {},
   "outputs": [
    {
     "name": "stdout",
     "output_type": "stream",
     "text": [
      "/home/gabriel/THESIS/dir_protein/1s9p/2187\n",
      "/home/gabriel/THESIS/dir_protein/1s9p/3902\n",
      "/home/gabriel/THESIS/dir_protein/1s9p/60198\n",
      "/home/gabriel/THESIS/dir_protein/1s9p/104741\n",
      "/home/gabriel/THESIS/dir_protein/1s9p/208908\n",
      "/home/gabriel/THESIS/dir_protein/1s9p/208909\n",
      "/home/gabriel/THESIS/dir_protein/1s9p/2733525\n",
      "/home/gabriel/THESIS/dir_protein/1s9p/3005573\n",
      "/home/gabriel/THESIS/dir_protein/1s9p/5330286\n",
      "/home/gabriel/THESIS/dir_protein/1s9p/6442177\n",
      "/home/gabriel/THESIS/dir_protein/1s9p/9941095\n",
      "/home/gabriel/THESIS/dir_protein/1s9p/11557040\n",
      "/home/gabriel/THESIS/dir_protein/1s9p/11679357\n",
      "/home/gabriel/THESIS/dir_protein/1s9p/23725625\n",
      "/home/gabriel/THESIS/dir_protein/1s9p/44631912\n",
      "/home/gabriel/THESIS/dir_protein/1s9p/46220502\n",
      "/home/gabriel/THESIS/dir_protein/1s9p/51039094\n",
      "/home/gabriel/THESIS/dir_protein/1s9p/56649450\n",
      "/home/gabriel/THESIS/dir_protein/1s9p/67307512\n",
      "/home/gabriel/THESIS/dir_protein/1s9p/67479909\n",
      "/home/gabriel/THESIS/dir_protein/1s9p/91798457\n",
      "/home/gabriel/THESIS/dir_protein/1s9p/135565654\n",
      "/home/gabriel/THESIS/dir_protein/1s9p/139061731\n",
      "/home/gabriel/THESIS/dir_protein/5r7y/2187\n",
      "/home/gabriel/THESIS/dir_protein/5r7y/3902\n",
      "/home/gabriel/THESIS/dir_protein/5r7y/60198\n",
      "/home/gabriel/THESIS/dir_protein/5r7y/104741\n",
      "/home/gabriel/THESIS/dir_protein/5r7y/208908\n",
      "/home/gabriel/THESIS/dir_protein/5r7y/208909\n",
      "/home/gabriel/THESIS/dir_protein/5r7y/2733525\n",
      "/home/gabriel/THESIS/dir_protein/5r7y/3005573\n",
      "/home/gabriel/THESIS/dir_protein/5r7y/5330286\n",
      "/home/gabriel/THESIS/dir_protein/5r7y/6442177\n",
      "/home/gabriel/THESIS/dir_protein/5r7y/9941095\n",
      "/home/gabriel/THESIS/dir_protein/5r7y/11557040\n",
      "/home/gabriel/THESIS/dir_protein/5r7y/11679357\n",
      "/home/gabriel/THESIS/dir_protein/5r7y/23725625\n",
      "/home/gabriel/THESIS/dir_protein/5r7y/44631912\n",
      "/home/gabriel/THESIS/dir_protein/5r7y/46220502\n",
      "/home/gabriel/THESIS/dir_protein/5r7y/51039094\n",
      "/home/gabriel/THESIS/dir_protein/5r7y/56649450\n",
      "/home/gabriel/THESIS/dir_protein/5r7y/67307512\n",
      "/home/gabriel/THESIS/dir_protein/5r7y/67479909\n",
      "/home/gabriel/THESIS/dir_protein/5r7y/91798457\n",
      "/home/gabriel/THESIS/dir_protein/5r7y/135565654\n",
      "/home/gabriel/THESIS/dir_protein/5r7y/139061731\n",
      "/home/gabriel/THESIS/dir_protein/5rl6/2187\n",
      "/home/gabriel/THESIS/dir_protein/5rl6/3902\n",
      "/home/gabriel/THESIS/dir_protein/5rl6/60198\n",
      "/home/gabriel/THESIS/dir_protein/5rl6/104741\n",
      "/home/gabriel/THESIS/dir_protein/5rl6/208908\n",
      "/home/gabriel/THESIS/dir_protein/5rl6/208909\n",
      "/home/gabriel/THESIS/dir_protein/5rl6/2733525\n",
      "/home/gabriel/THESIS/dir_protein/5rl6/3005573\n",
      "/home/gabriel/THESIS/dir_protein/5rl6/5330286\n",
      "/home/gabriel/THESIS/dir_protein/5rl6/6442177\n",
      "/home/gabriel/THESIS/dir_protein/5rl6/9941095\n",
      "/home/gabriel/THESIS/dir_protein/5rl6/11557040\n",
      "/home/gabriel/THESIS/dir_protein/5rl6/11679357\n",
      "/home/gabriel/THESIS/dir_protein/5rl6/23725625\n",
      "/home/gabriel/THESIS/dir_protein/5rl6/44631912\n",
      "/home/gabriel/THESIS/dir_protein/5rl6/46220502\n",
      "/home/gabriel/THESIS/dir_protein/5rl6/51039094\n",
      "/home/gabriel/THESIS/dir_protein/5rl6/56649450\n",
      "/home/gabriel/THESIS/dir_protein/5rl6/67307512\n",
      "/home/gabriel/THESIS/dir_protein/5rl6/67479909\n",
      "/home/gabriel/THESIS/dir_protein/5rl6/91798457\n",
      "/home/gabriel/THESIS/dir_protein/5rl6/135565654\n",
      "/home/gabriel/THESIS/dir_protein/5rl6/139061731\n",
      "/home/gabriel/THESIS/dir_protein/5s6x/2187\n",
      "/home/gabriel/THESIS/dir_protein/5s6x/3902\n",
      "/home/gabriel/THESIS/dir_protein/5s6x/60198\n",
      "/home/gabriel/THESIS/dir_protein/5s6x/104741\n",
      "/home/gabriel/THESIS/dir_protein/5s6x/208908\n",
      "/home/gabriel/THESIS/dir_protein/5s6x/208909\n",
      "/home/gabriel/THESIS/dir_protein/5s6x/2733525\n",
      "/home/gabriel/THESIS/dir_protein/5s6x/3005573\n",
      "/home/gabriel/THESIS/dir_protein/5s6x/5330286\n",
      "/home/gabriel/THESIS/dir_protein/5s6x/6442177\n",
      "/home/gabriel/THESIS/dir_protein/5s6x/9941095\n",
      "/home/gabriel/THESIS/dir_protein/5s6x/11557040\n",
      "/home/gabriel/THESIS/dir_protein/5s6x/11679357\n",
      "/home/gabriel/THESIS/dir_protein/5s6x/23725625\n",
      "/home/gabriel/THESIS/dir_protein/5s6x/44631912\n",
      "/home/gabriel/THESIS/dir_protein/5s6x/46220502\n",
      "/home/gabriel/THESIS/dir_protein/5s6x/51039094\n",
      "/home/gabriel/THESIS/dir_protein/5s6x/56649450\n",
      "/home/gabriel/THESIS/dir_protein/5s6x/67307512\n",
      "/home/gabriel/THESIS/dir_protein/5s6x/67479909\n",
      "/home/gabriel/THESIS/dir_protein/5s6x/91798457\n",
      "/home/gabriel/THESIS/dir_protein/5s6x/135565654\n",
      "/home/gabriel/THESIS/dir_protein/5s6x/139061731\n",
      "/home/gabriel/THESIS/dir_protein/6m71/2187\n",
      "/home/gabriel/THESIS/dir_protein/6m71/3902\n",
      "/home/gabriel/THESIS/dir_protein/6m71/60198\n",
      "/home/gabriel/THESIS/dir_protein/6m71/104741\n",
      "/home/gabriel/THESIS/dir_protein/6m71/208908\n",
      "/home/gabriel/THESIS/dir_protein/6m71/208909\n",
      "/home/gabriel/THESIS/dir_protein/6m71/2733525\n",
      "/home/gabriel/THESIS/dir_protein/6m71/3005573\n",
      "/home/gabriel/THESIS/dir_protein/6m71/5330286\n",
      "/home/gabriel/THESIS/dir_protein/6m71/6442177\n",
      "/home/gabriel/THESIS/dir_protein/6m71/9941095\n",
      "/home/gabriel/THESIS/dir_protein/6m71/11557040\n",
      "/home/gabriel/THESIS/dir_protein/6m71/11679357\n",
      "/home/gabriel/THESIS/dir_protein/6m71/23725625\n",
      "/home/gabriel/THESIS/dir_protein/6m71/44631912\n",
      "/home/gabriel/THESIS/dir_protein/6m71/46220502\n",
      "/home/gabriel/THESIS/dir_protein/6m71/51039094\n",
      "/home/gabriel/THESIS/dir_protein/6m71/56649450\n",
      "/home/gabriel/THESIS/dir_protein/6m71/67307512\n",
      "/home/gabriel/THESIS/dir_protein/6m71/67479909\n",
      "/home/gabriel/THESIS/dir_protein/6m71/91798457\n",
      "/home/gabriel/THESIS/dir_protein/6m71/135565654\n",
      "/home/gabriel/THESIS/dir_protein/6m71/139061731\n",
      "/home/gabriel/THESIS/dir_protein/7egq/2187\n",
      "/home/gabriel/THESIS/dir_protein/7egq/3902\n",
      "/home/gabriel/THESIS/dir_protein/7egq/60198\n",
      "/home/gabriel/THESIS/dir_protein/7egq/104741\n",
      "/home/gabriel/THESIS/dir_protein/7egq/208908\n",
      "/home/gabriel/THESIS/dir_protein/7egq/208909\n",
      "/home/gabriel/THESIS/dir_protein/7egq/2733525\n",
      "/home/gabriel/THESIS/dir_protein/7egq/3005573\n",
      "/home/gabriel/THESIS/dir_protein/7egq/5330286\n",
      "/home/gabriel/THESIS/dir_protein/7egq/6442177\n",
      "/home/gabriel/THESIS/dir_protein/7egq/9941095\n",
      "/home/gabriel/THESIS/dir_protein/7egq/11557040\n",
      "/home/gabriel/THESIS/dir_protein/7egq/11679357\n",
      "/home/gabriel/THESIS/dir_protein/7egq/23725625\n",
      "/home/gabriel/THESIS/dir_protein/7egq/44631912\n",
      "/home/gabriel/THESIS/dir_protein/7egq/46220502\n",
      "/home/gabriel/THESIS/dir_protein/7egq/51039094\n",
      "/home/gabriel/THESIS/dir_protein/7egq/56649450\n",
      "/home/gabriel/THESIS/dir_protein/7egq/67307512\n",
      "/home/gabriel/THESIS/dir_protein/7egq/67479909\n",
      "/home/gabriel/THESIS/dir_protein/7egq/91798457\n",
      "/home/gabriel/THESIS/dir_protein/7egq/135565654\n",
      "/home/gabriel/THESIS/dir_protein/7egq/139061731\n"
     ]
    }
   ],
   "source": [
    "for j in protein:\n",
    "        root_path = path_protein +j\n",
    "        for i in df['cid']:\n",
    "                path = os.path.join(root_path,str(i))\n",
    "                os.mkdir(path)\n",
    "\n"
   ]
  },
  {
   "cell_type": "code",
   "execution_count": 41,
   "id": "dc2ff4df",
   "metadata": {},
   "outputs": [],
   "source": [
    "path_obat = '/dir_protein/1s9p/'\n",
    "obat = natsort.natsorted(os.listdir(path_obat))"
   ]
  },
  {
   "cell_type": "code",
   "execution_count": 51,
   "id": "549d8817",
   "metadata": {},
   "outputs": [
    {
     "data": {
      "text/plain": [
       "'2187'"
      ]
     },
     "execution_count": 51,
     "metadata": {},
     "output_type": "execute_result"
    }
   ],
   "source": [
    "obat[0]"
   ]
  },
  {
   "cell_type": "code",
   "execution_count": 55,
   "id": "6da47229",
   "metadata": {},
   "outputs": [],
   "source": [
    "for j in range(len(protein)):\n",
    "    for i in range(len(obat)):\n",
    "       shutil.copy((path_file+file[i]),(path_protein + protein[j] + '/' + obat[i] + '/'))\n",
    "       os.rename((path_protein + protein[j] + '/' + obat[i] + '/' + str(df['cid'][i]) + '.sdf'),(path_protein + protein[j] + '/' + obat[i] + '/' + protein[j] + '_ligand.sdf'))\n"
   ]
  },
  {
   "cell_type": "code",
   "execution_count": null,
   "id": "5b9ebbbe",
   "metadata": {},
   "outputs": [],
   "source": []
  }
 ],
 "metadata": {
  "kernelspec": {
   "display_name": "Python 3 (ipykernel)",
   "language": "python",
   "name": "python3"
  },
  "language_info": {
   "codemirror_mode": {
    "name": "ipython",
    "version": 3
   },
   "file_extension": ".py",
   "mimetype": "text/x-python",
   "name": "python",
   "nbconvert_exporter": "python",
   "pygments_lexer": "ipython3",
   "version": "3.9.7"
  }
 },
 "nbformat": 4,
 "nbformat_minor": 5
}
